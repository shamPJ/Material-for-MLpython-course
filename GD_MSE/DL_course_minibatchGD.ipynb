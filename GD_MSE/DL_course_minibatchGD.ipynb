{
 "cells": [
  {
   "cell_type": "markdown",
   "metadata": {},
   "source": [
    "## Loss functions"
   ]
  },
  {
   "cell_type": "markdown",
   "metadata": {},
   "source": [
    "**TODO** \n",
    "Add Intro about loss function\n",
    "\n",
    "....\n",
    "\n",
    "\n",
    "We evalute models build with ML and NN methods by computing the error or loss incured by model predictions. \n",
    "Recall one of the most common loss functions - mean squared error. \n",
    "\n",
    "\n",
    ".....\n"
   ]
  },
  {
   "cell_type": "markdown",
   "metadata": {},
   "source": [
    "## Mean Squared Error Loss\n",
    "\n",
    "\n",
    "Let's re-cap how to compute Mean Squared Error Loss (MSE) for linear predictor `y_pred = w*x`. \n",
    "The MSE loss defined as an average of squared differences between true labels and predictions:\n",
    "\n",
    "`Loss = np.mean(np.square(y - y_pred))`\n",
    "\n",
    "\n",
    "where:\n",
    "\n",
    "`x` - feature vector\\\n",
    "`w` - weight\\\n",
    "`y` - label vector \\\n",
    "`y_pred` - predictions \n",
    "\n",
    "Below there is a plot of MSE loss function as a function of a weight. This means, that `x` and `y` are \"fixed\" and only weight values are changing. The shape of the MSE loss function is parabola with one minimum point (which is also a [global minimum](https://en.wikipedia.org/wiki/Maxima_and_minima#/media/File:Extrema_example_original.svg) in this case) and this minimum is corresponding to the lowest MSE loss value. \n",
    "\n",
    "You can see that some weights will give a bigger MSE loss (black dot on the left plot) and weights near  global minimum of the function will give a small MSE loss (red dot). Not suprizingly, the predictions made with weights giving a small MSE loss fit better the data (linear predictor plotted as a red line on the right plot) than predictions made with weights giving a large MSE loss (black line).\n",
    "\n",
    "<img src=\"../../Material-for-MLpython-course/GD_MSE/MSE.png\" alt=\"Drawing\" style=\"width: 700px;\"/>"
   ]
  },
  {
   "cell_type": "markdown",
   "metadata": {},
   "source": [
    "## Gradient descent \n",
    "\n",
    "So, how can we find the optimal weight, which gives us a smallest MSE loss possible? \\\n",
    "One way is to use derivative of the function. Breifly, [derivative](https://en.wikipedia.org/wiki/Derivative) describes the rate of change of a function respectively to change of its arument.  \n",
    "\n",
    "The derivative of the MSE loss function with respect to (w.r.t.) weight will tell us how the function is changing when changing the weight value. In the case if we have more parameters of the loss function (more than one weight) we will need to compute not a derivative, but [gradient](https://en.wikipedia.org/wiki/Gradient) - a vector, which elements are the partial derivatives of loss function.\n",
    "\n",
    "The algorithm, which uses gradient to find a minimum of the loss function is called **gradient descent**. Gradient descent is an iterative algorithm. During each iteration the algorithm estimates how the parameters (weights) of the function should be changed in order to reach the local minimum of the function. More precisely, the gradient of the function is calculated and algorithm \"takes\" small steps in the direction of the steepest descent of the function. Common analogy for this algorithm is taking a path downhill in the mountains [read here](https://en.wikipedia.org/wiki/Gradient_descent).\n",
    "\n",
    "**Gradient descent algorithm includes following steps:**\n",
    "\n",
    "**1. initialize weights randomly**\\\n",
    "**2. compute predictions, given current weights**\\\n",
    "**3. compute loss (e.g. MSE loss)**\\\n",
    "**4. compute gradient of the loss function**\\\n",
    "**5. update the weights - change the weights values to the opposite direction from gradient** `weight = weight - step*gradient`\n",
    "\n",
    "\n",
    "The algorithm is then repeated pre-defined amount of times (iterations). The `step` parameter or **learning rate** regulates how large the change of weight value will be. If the step size is too small, the algorithm may take too much time to find a minimum (or, in computer science terminology, it will take too much time to converge). If the step size is too big, it is possible that algorithms will move to totally opposite direction from the minimum (or algorithm will diverge)."
   ]
  },
  {
   "cell_type": "markdown",
   "metadata": {},
   "source": [
    "Above we discussed very simple case with dataset having only one feature and weight and MSE as a loss function. In reality, the dataset may have thousands of parameters (weights) and model may be evaluated by more complicated loss function than MSE.\n",
    "\n",
    "Below you can see examples of loss function landscapes of more complicated models (neural networks), which illustrates that finding a minimum of these loss functions is not a trivial task:\n",
    "\n",
    "<img src=\"../../Material-for-MLpython-course/GD_MSE/NNloss.png\" alt=\"Drawing\" style=\"width: 500px;\"/>\n",
    "\n",
    "\n",
    "<center><a href=\"https://www.cs.umd.edu/~tomg/projects/landscapes/\">image source</a></center>\n",
    "<center><a href=\"https://arxiv.org/abs/1712.09913/\">original paper</a></center>\n",
    "\n",
    "Here some entertaining examples of neural network loss function visualizations:\n",
    "\n",
    "[3D visualization of NN loss functions](http://www.telesens.co/loss-landscape-viz/viewer.html) \\\n",
    "[3D animation of NN loss functions](https://www.youtube.com/watch?time_continue=32&v=aq3oA6jSGro&feature=emb_logo)\n"
   ]
  },
  {
   "cell_type": "markdown",
   "metadata": {},
   "source": [
    "## Stochastic gradient descent \n",
    "\n",
    "While we discussed the main steps of the gradient descent algorithm above, in practice the slight variation of the algorith called **mini-batch  stochastic gradient descent** is more common. The idea is to divide the dataset into random subsets or **batches** and perform the gradient descent algorithm on each batch. When the algorithm pass through all batches, or through ENTIRE dataset, we say that algorithm ran for one **epoch**. \n",
    "\n",
    "We can therefore classify the gradient descent algorithms, based on the **batch size** (number of samples per batch):\n",
    "\n",
    "- Batch gradient descent (batch size = whole dataset)\n",
    "- Mini-batch stochastic gradient descent (1 < batch size < whole dataset)\n",
    "- \"True\" stochastic gradient descent (batch size = 1)\n",
    "\n",
    "The pros of using batches instead of the entire dataset is that it is computationally easier, therefore faster and cons - it requires more learning time (more epoches to run). "
   ]
  },
  {
   "cell_type": "markdown",
   "metadata": {},
   "source": [
    "Many machine learning and deep learning Python libraries, such as sklearn and keras, provide ready-to-use gradient based algorithms. Nevertheless, let's implement our own simplified mini-batch stochastic gradient descent (or mini-batch SGD) algorithm for learning purposes. In this simple case we have 100 data points (samples) which are described by only one feature `X` and have labels stored in `y`. \\\n",
    "We need to find the optimal linear predictor `y_pred = weight*X`."
   ]
  },
  {
   "cell_type": "markdown",
   "metadata": {},
   "source": [
    "First, we need to import all needed Python libraries."
   ]
  },
  {
   "cell_type": "code",
   "execution_count": 10,
   "metadata": {},
   "outputs": [],
   "source": [
    "import numpy as np\n",
    "import matplotlib.pyplot as plt\n",
    "from sklearn import preprocessing\n",
    "from sklearn.linear_model import LinearRegression\n",
    "from sklearn.datasets import make_regression "
   ]
  },
  {
   "cell_type": "markdown",
   "metadata": {},
   "source": [
    "Next, we will generate some dataset by using sklearn.dataset `make_regression` function."
   ]
  },
  {
   "cell_type": "code",
   "execution_count": 11,
   "metadata": {},
   "outputs": [],
   "source": [
    "# generate dataset for regression problem\n",
    "\n",
    "X, y = make_regression(n_samples=100, n_features=1, noise=20, random_state=2) \n",
    "X = X.reshape(-1,)\n",
    "X = preprocessing.scale(X)"
   ]
  },
  {
   "cell_type": "markdown",
   "metadata": {},
   "source": [
    "We used sklearn `preprocessing` module ([docs](https://scikit-learn.org/stable/modules/generated/sklearn.preprocessing.scale.html#sklearn-preprocessing-scale)) to scale our features `X`. Learn [here](https://www.youtube.com/watch?v=r5E2X1JdHAU&list=PLLssT5z_DsK-h9vYZkQkYNWcItqhlRJLN&index=20), why it is usefull to normalize the data when applying the gradient descent algorithm. "
   ]
  },
  {
   "cell_type": "markdown",
   "metadata": {},
   "source": [
    "Before implementing the SGD algorithm, we need to write a helper function `batch()` to divide our dataset and corresponding labels into batches. We will provide the feature matrix `X` and label vector `y` as an input to the function. We also need to define the parameter `batch_size` or number of data points in each batch. The function `batch()` is a Python generator function, meaning that the function can be used in for-loops and will return batches sequentially, one-by-one. Before splitting the dataset into batches, we will randomly shuffle the data, so every time we call `batch()` we will generate batches from dataset, where data points are in a random order."
   ]
  },
  {
   "cell_type": "code",
   "execution_count": 12,
   "metadata": {},
   "outputs": [],
   "source": [
    "def batch(X,y,batch_size):\n",
    "    \n",
    "    '''\n",
    "    \n",
    "    This is a function for creating minibatches of the dataset.\n",
    "    The yield statement suspends function’s execution and sends \n",
    "    a value back to the caller, but retains enough state to enable \n",
    "    function to resume where it is left off. \n",
    "    \n",
    "    '''\n",
    "    # check if the number of datapoints is equal in feature matrix X and label vector y\n",
    "    # if assertion fails return error message \"Number of datapoints are different in X and y\"\n",
    "    assert X.shape[0] == y.shape[0], \"Number of datapoints are different in X and y\"\n",
    "    \n",
    "    # shuffle datapoints \n",
    "    # premutation will randomly re-arrange the order of the numbers\n",
    "    # which will be used as indices to create X and y with datapoints in different order\n",
    "    p = np.random.permutation(len(y))\n",
    "    X_perm = X[p] \n",
    "    y_perm = y[p]\n",
    "    \n",
    "    # generate batches\n",
    "    for i in range(0,X.shape[0],batch_size):\n",
    "        yield (X_perm[i:i + batch_size], y_perm[i:i + batch_size])"
   ]
  },
  {
   "cell_type": "markdown",
   "metadata": {},
   "source": [
    "Now we are ready to implement gradient descent algorithm. It will be implemented in a `grad_descent()` function, where feature matrix `X`, label vector `y`,  initial weights and a learning rate is provided as an input to the function.\n",
    "Therefore, the function `grad_descent()` will:\n",
    "\n",
    "1. compute predictions, given the current weights\n",
    "2. compute MSE loss \n",
    "3. compute gradient of the loss function\n",
    "4. update the weights - change the weights values to the opposite direction from gradient `weight = weight - step*gradient`\n",
    "\n"
   ]
  },
  {
   "cell_type": "code",
   "execution_count": 13,
   "metadata": {},
   "outputs": [],
   "source": [
    "def grad_descent(X,y,weight,lrate):\n",
    "    \n",
    "    '''\n",
    "    \n",
    "    This is a function for performing palin gradient descent algorithm with MSE loss function.\n",
    "\n",
    "    squared error loss for a single datapoint:        \n",
    "      loss = (y - weight*x)**2\n",
    "    derivative w.r.t. to weight for a single datapoint:  \n",
    "      der_w = -2x*(y - weight*x)\n",
    "      \n",
    "    To compute the MSE and derivative of MSE - take an averge of all datapoints.\n",
    "    \n",
    "    '''\n",
    "    \n",
    "    # performing Gradient Descent:\n",
    "    \n",
    "    # 1. compute predictions, given the weight\n",
    "    y_hat = weight*X   \n",
    "    # 2. compute MSE loss\n",
    "    MSE = np.mean((y - y_hat)**2)\n",
    "    # 3. compute gradient of loss function\n",
    "    der_w = -2*np.mean(X*(y - y_hat))  \n",
    "    # 4. update the weights\n",
    "    weight = weight - lrate* der_w            \n",
    " \n",
    "    return weight, MSE "
   ]
  },
  {
   "cell_type": "markdown",
   "metadata": {},
   "source": [
    "Finally, we combine all elements in `minibatchSGD()` function. The parameters of the function: \\\n",
    "`X` - features \\\n",
    "`y` - labels   \\\n",
    "`batch_size` - number of samples per batch \\\n",
    "`epoches` - how many times to iterate through the ENTIRE dataset \\\n",
    "`lrate` - step size or learning rate of gradient descent\n",
    "\n",
    "The function will return learnt weight after running the algorithm through entire dataset epoches times.\n",
    "In addition, the function will return list `loss` where the MSE loss values for all batches and epoches are stored."
   ]
  },
  {
   "cell_type": "code",
   "execution_count": 14,
   "metadata": {
    "scrolled": false
   },
   "outputs": [],
   "source": [
    "def minibatchSGD(X,y,batch_size,epochs,lrate):  \n",
    "    \n",
    "    # initialize weight randomly\n",
    "    weight = np.random.rand()    \n",
    "    # create list to store the loss values \n",
    "    loss = []\n",
    "     \n",
    "    for i in range(epochs):\n",
    "        # run gradient descent for each batch\n",
    "        for X_batch,y_batch in batch(X,y,batch_size):\n",
    "            weight, MSE = grad_descent(X_batch,y_batch,weight,lrate)\n",
    "            # store MSE loss of each batch of each epoch\n",
    "            loss.append(MSE)\n",
    "            \n",
    "        # one epoch is finished when the algorithm goes through ALL batches\n",
    "    return weight, loss"
   ]
  },
  {
   "cell_type": "markdown",
   "metadata": {},
   "source": [
    "Let's test our SGD implementation and run the algorithm for:\n",
    "\n",
    "- batch sizes = 1 (one data point) **(\"true\" SGD)**\n",
    "- batch sizes = 10 **(mini-batch SGD)**\n",
    "- batch sizes = 100 (entire dataset) **(Batch GD)**"
   ]
  },
  {
   "cell_type": "code",
   "execution_count": 15,
   "metadata": {},
   "outputs": [],
   "source": [
    "# set epoches and learning rate\n",
    "epochs = 200\n",
    "lrate = 0.1\n",
    "\n",
    "# batch size 1\n",
    "model1 = minibatchSGD(X,y,1,epochs,lrate)\n",
    "# batch size 10\n",
    "model2 = minibatchSGD(X,y,10,epochs,lrate)\n",
    "# batch size 100\n",
    "model3 = minibatchSGD(X,y,100,epochs,lrate)"
   ]
  },
  {
   "cell_type": "markdown",
   "metadata": {},
   "source": [
    "The function `minibatchSGD()` returns weight and loss incurred during the training. Let's retrive the loss values for plotting and print out learnt weights."
   ]
  },
  {
   "cell_type": "code",
   "execution_count": 16,
   "metadata": {
    "scrolled": true
   },
   "outputs": [
    {
     "name": "stdout",
     "output_type": "stream",
     "text": [
      "Epochs:  200\n",
      "Iterations per epoch: 100, 10, 1,\n",
      "Total number of iterations:  20000 2000 200\n",
      "\n",
      "Weights: \n",
      "\n",
      "model1 67.57 \n",
      "model2 59.38 \n",
      "model3 60.27\n"
     ]
    }
   ],
   "source": [
    "# history of the MSE loss inccured during learning\n",
    "batch_loss1 = model1[-1]\n",
    "batch_loss2 = model2[-1]\n",
    "batch_loss3 = model3[-1]\n",
    "\n",
    "# let's check that length of list `loss` is equal to\n",
    "# X.shape[0]/batch_size*epochs\n",
    "print(\"Epochs: \", epochs)\n",
    "print(\"Iterations per epoch: {:.0f}, {:.0f}, {:.0f},\".format(X.shape[0]/1, X.shape[0]/10, X.shape[0]/100))\n",
    "print(\"Total number of iterations: \",len(batch_loss1), len(batch_loss2), len(batch_loss3))\n",
    "\n",
    "# display weight learnt during the SGD\n",
    "print(\"\\nWeights: \\n\\nmodel1 {:.2f} \\nmodel2 {:.2f} \\nmodel3 {:.2f}\".format(model1[0], model2[0], model3[0]))"
   ]
  },
  {
   "cell_type": "markdown",
   "metadata": {},
   "source": [
    "We can compare the optimal weights learnt by our algorithm and the optimal weight calculated by sklearn `LinearRegression()` class. This class does not use iterative gradient-based algorithms, but rather calculating opimal weight analytically [learn more here](https://www.youtube.com/watch?v=B-Ks01zR4HY).\n"
   ]
  },
  {
   "cell_type": "code",
   "execution_count": 17,
   "metadata": {},
   "outputs": [
    {
     "data": {
      "text/plain": [
       "60.27113167581484"
      ]
     },
     "execution_count": 17,
     "metadata": {},
     "output_type": "execute_result"
    }
   ],
   "source": [
    "# create linear regression model \n",
    "reg = LinearRegression(fit_intercept=False) \n",
    "# fit a linear regression model \n",
    "reg = reg.fit(X.reshape(-1,1), y)\n",
    "# print optimal coefficients\n",
    "reg.coef_[0]"
   ]
  },
  {
   "cell_type": "markdown",
   "metadata": {},
   "source": [
    "We can see that our algorithm worked relatevily well, especially when the batch size is equal to the whole dataset. This is due to gradient being more accurate and representative of dataset when we use more datapoints. \\\n",
    "It is usefull to plot the loss values incurred during the training or learning. Let's plot loss values for first 100 iterations (for first 100 batches)."
   ]
  },
  {
   "cell_type": "code",
   "execution_count": 18,
   "metadata": {
    "scrolled": true
   },
   "outputs": [
    {
     "data": {
      "image/png": "[encoded data removed]",
      "text/plain": [
       "<Figure size 1080x360 with 3 Axes>"
      ]
     },
     "metadata": {
      "needs_background": "light"
     },
     "output_type": "display_data"
    }
   ],
   "source": [
    "fig, axes = plt.subplots(1,3, sharey=True, figsize=(15,5))\n",
    "\n",
    "batch_loss_list = [batch_loss1, batch_loss2, batch_loss3]\n",
    "size_list       = [1,10,100] # batch size\n",
    "\n",
    "\n",
    "for ax, batch_loss, size in zip(axes, batch_loss_list, size_list):\n",
    "    ax.plot(np.arange(len(batch_loss[:100])), batch_loss[:100])\n",
    "    \n",
    "    ax.spines['top'].set_visible(False)\n",
    "    ax.spines['right'].set_visible(False)\n",
    "    \n",
    "    ax.set_title(\"batch size = \"+str(size), fontsize=18)\n",
    "    \n",
    "axes[0].set_xlabel('batch #', fontsize=18)\n",
    "axes[0].set_ylabel('Loss', fontsize=18)\n",
    "\n",
    "\n",
    "plt.show()"
   ]
  },
  {
   "cell_type": "markdown",
   "metadata": {},
   "source": [
    "We can see that when the batch size is small the value of the loss is not decreasing smoothly, but oscillating up and down a lot. This happens because we update our weight based on the gradient computed for only one datapoint and the gradient of a single data point not necesseraly will correspond to the average gradient for all datapoints."
   ]
  },
  {
   "cell_type": "markdown",
   "metadata": {},
   "source": [
    "Below are the animations illustrating the training process with SGD where batch size is all data points (upper panel) and where batch size is 10 data points (lower panel, the current batch marked with red color). In line with loss plots we created above, mini-batch SGD is more noisy than batch GD. Although, it seems that using plain batch GD is faster way to reach the minimum of the loss function, in practice when working with large datasets and thousands parameters (weights) in neural networks, this approach will be slower and more computationally expensive than mini-batch SGD."
   ]
  },
  {
   "cell_type": "markdown",
   "metadata": {},
   "source": [
    "Batch size = all datapoints (100)\n",
    "![SegmentLocal](../../Material-for-MLpython-course/GD_MSE/minibatchGD1.gif \"segment\")\n",
    "Batch size = 10% of total number of datapoints (10)\n",
    "![SegmentLocal](../../Material-for-MLpython-course/GD_MSE/minibatchGD2_2.gif \"segment\")"
   ]
  },
  {
   "cell_type": "markdown",
   "metadata": {},
   "source": [
    "# Other gardient based optimization methods\n",
    "\n",
    "In addition to plain GD or SGD, there are many other gradient-based algorithms or optimizers ([list of optimizers implemented in deep learning Python library Keras](https://keras.io/api/optimizers/)). One of the most most known are SGD with momentum, RMSprop and Adam. These are variations of SGD, which are in many cases faster and more robust than mini-batch SGD. \\\n",
    "These algorithms are closely related but may behave quite differently depending on the loss function and hyperparameters settings. You can see it from the animation below, where these optimizers are trying to find the minimum of the [six-hump camel](https://www.sfu.ca/~ssurjano/camel6.html) function. \n",
    "\n",
    "![SegmentLocal](../../Material-for-MLpython-course/GD_MSE/camel3D.gif \"segment\")"
   ]
  },
  {
   "cell_type": "markdown",
   "metadata": {},
   "source": [
    "## Other resources \n",
    "\n",
    "**derivatives:**\n",
    "\n",
    "- https://www.mathsisfun.com/calculus/derivatives-introduction.html\n",
    "- (chapters 3-4) https://openstax.org/books/calculus-volume-1/pages/3-1-defining-the-derivative#27277\n",
    "\n",
    "**gradient descent algorithm:**\n",
    "\n",
    "Video \n",
    "- Andrew Ng, https://www.youtube.com/watch?v=F6GSRDoB-Cg \n",
    "- StatQuest, https://www.youtube.com/watch?v=sDv4f4s2SB8\n",
    "- 3Blue1Brown, https://www.youtube.com/watch?v=IHZwWFHWa-w\n",
    "\n",
    "Books\n",
    "\n",
    "- (beginner level) Deep Learning with Python (chapter 2.4) https://livebook.manning.com/book/deep-learning-with-python/chapter-2/193\n",
    "- (intermediate) Machine Learning: Basic Principles (chapter 5) https://arxiv.org/pdf/1805.05052.pdf\n",
    "- (advanced) Deep Learning Book https://www.deeplearningbook.org/contents/optimization.html"
   ]
  }
 ],
 "metadata": {
  "kernelspec": {
   "display_name": "Python [conda env:snowflake] *",
   "language": "python",
   "name": "conda-env-snowflake-py"
  },
  "language_info": {
   "codemirror_mode": {
    "name": "ipython",
    "version": 3
   },
   "file_extension": ".py",
   "mimetype": "text/x-python",
   "name": "python",
   "nbconvert_exporter": "python",
   "pygments_lexer": "ipython3",
   "version": "3.7.5"
  },
  "toc": {
   "base_numbering": 1,
   "nav_menu": {},
   "number_sections": false,
   "sideBar": true,
   "skip_h1_title": false,
   "title_cell": "Table of Contents",
   "title_sidebar": "Contents",
   "toc_cell": false,
   "toc_position": {
    "height": "calc(100% - 180px)",
    "left": "10px",
    "top": "150px",
    "width": "304.8px"
   },
   "toc_section_display": true,
   "toc_window_display": true
  }
 },
 "nbformat": 4,
 "nbformat_minor": 2
}
